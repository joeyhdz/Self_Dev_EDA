{
 "cells": [
  {
   "cell_type": "code",
   "execution_count": 1,
   "id": "f05605c5",
   "metadata": {},
   "outputs": [],
   "source": [
    "import pandas as pd\n",
    "import numpy as np\n",
    "import matplotlib.pyplot as plt\n",
    "import seaborn as sns\n",
    "import calplot\n",
    "import warnings\n",
    "warnings.filterwarnings(\"ignore\")\n",
    "warnings.filterwarnings(\"ignore\", category=UserWarning, module=\"matplotlib\")"
   ]
  },
  {
   "cell_type": "markdown",
   "id": "c4dd1178",
   "metadata": {},
   "source": [
    "## Calendar Heatmap - Data Science Study Time"
   ]
  },
  {
   "cell_type": "code",
   "execution_count": 2,
   "id": "1a958577",
   "metadata": {},
   "outputs": [],
   "source": [
    "# load in data \n",
    "df = pd.read_csv(\"clock.csv\")"
   ]
  },
  {
   "cell_type": "code",
   "execution_count": 3,
   "id": "f3905b08",
   "metadata": {},
   "outputs": [
    {
     "data": {
      "text/html": [
       "<div>\n",
       "<style scoped>\n",
       "    .dataframe tbody tr th:only-of-type {\n",
       "        vertical-align: middle;\n",
       "    }\n",
       "\n",
       "    .dataframe tbody tr th {\n",
       "        vertical-align: top;\n",
       "    }\n",
       "\n",
       "    .dataframe thead th {\n",
       "        text-align: right;\n",
       "    }\n",
       "</style>\n",
       "<table border=\"1\" class=\"dataframe\">\n",
       "  <thead>\n",
       "    <tr style=\"text-align: right;\">\n",
       "      <th></th>\n",
       "      <th>ENTRY NO.</th>\n",
       "      <th>START</th>\n",
       "      <th>END</th>\n",
       "      <th>ON THE CLOCK</th>\n",
       "    </tr>\n",
       "  </thead>\n",
       "  <tbody>\n",
       "    <tr>\n",
       "      <th>0</th>\n",
       "      <td>1.0</td>\n",
       "      <td>7/3/2022 8:00</td>\n",
       "      <td>7/3/2022 8:47</td>\n",
       "      <td>0:47</td>\n",
       "    </tr>\n",
       "    <tr>\n",
       "      <th>1</th>\n",
       "      <td>2.0</td>\n",
       "      <td>7/4/2022 16:18</td>\n",
       "      <td>7/4/2022 18:26</td>\n",
       "      <td>2:08</td>\n",
       "    </tr>\n",
       "    <tr>\n",
       "      <th>2</th>\n",
       "      <td>3.0</td>\n",
       "      <td>7/4/2022 18:58</td>\n",
       "      <td>7/4/2022 19:58</td>\n",
       "      <td>1:00</td>\n",
       "    </tr>\n",
       "    <tr>\n",
       "      <th>3</th>\n",
       "      <td>4.0</td>\n",
       "      <td>7/5/2022 8:42</td>\n",
       "      <td>7/5/2022 9:25</td>\n",
       "      <td>0:41</td>\n",
       "    </tr>\n",
       "    <tr>\n",
       "      <th>4</th>\n",
       "      <td>5.0</td>\n",
       "      <td>7/5/2022 10:26</td>\n",
       "      <td>7/5/2022 10:48</td>\n",
       "      <td>0:22</td>\n",
       "    </tr>\n",
       "  </tbody>\n",
       "</table>\n",
       "</div>"
      ],
      "text/plain": [
       "   ENTRY NO.           START             END ON THE CLOCK\n",
       "0        1.0   7/3/2022 8:00   7/3/2022 8:47         0:47\n",
       "1        2.0  7/4/2022 16:18  7/4/2022 18:26         2:08\n",
       "2        3.0  7/4/2022 18:58  7/4/2022 19:58         1:00\n",
       "3        4.0   7/5/2022 8:42   7/5/2022 9:25         0:41\n",
       "4        5.0  7/5/2022 10:26  7/5/2022 10:48         0:22"
      ]
     },
     "execution_count": 3,
     "metadata": {},
     "output_type": "execute_result"
    }
   ],
   "source": [
    "df.head()"
   ]
  },
  {
   "cell_type": "code",
   "execution_count": 4,
   "id": "c5a26da9",
   "metadata": {},
   "outputs": [],
   "source": [
    "# convert 'Start' and 'End' columns to datetime format\n",
    "df['Start'] = pd.to_datetime(df['START'])\n",
    "df['End'] = pd.to_datetime(df['END'])"
   ]
  },
  {
   "cell_type": "code",
   "execution_count": 5,
   "id": "6fd59517",
   "metadata": {},
   "outputs": [],
   "source": [
    "# create a new column 'Hours' that contains the time difference between 'Start' and 'End' in hours\n",
    "df['Hours'] = (df['End'] - df['Start']).dt.total_seconds() / 3600"
   ]
  },
  {
   "cell_type": "code",
   "execution_count": 6,
   "id": "9d7e1e39",
   "metadata": {},
   "outputs": [
    {
     "name": "stdout",
     "output_type": "stream",
     "text": [
      "<class 'pandas.core.frame.DataFrame'>\n",
      "RangeIndex: 1017 entries, 0 to 1016\n",
      "Data columns (total 7 columns):\n",
      " #   Column        Non-Null Count  Dtype         \n",
      "---  ------        --------------  -----         \n",
      " 0   ENTRY NO.     1016 non-null   float64       \n",
      " 1   START         1016 non-null   object        \n",
      " 2   END           1016 non-null   object        \n",
      " 3   ON THE CLOCK  1017 non-null   object        \n",
      " 4   Start         1016 non-null   datetime64[ns]\n",
      " 5   End           1016 non-null   datetime64[ns]\n",
      " 6   Hours         1016 non-null   float64       \n",
      "dtypes: datetime64[ns](2), float64(2), object(3)\n",
      "memory usage: 55.7+ KB\n"
     ]
    }
   ],
   "source": [
    "df.info()"
   ]
  },
  {
   "cell_type": "code",
   "execution_count": 7,
   "id": "4537ae15",
   "metadata": {},
   "outputs": [
    {
     "data": {
      "text/html": [
       "<div>\n",
       "<style scoped>\n",
       "    .dataframe tbody tr th:only-of-type {\n",
       "        vertical-align: middle;\n",
       "    }\n",
       "\n",
       "    .dataframe tbody tr th {\n",
       "        vertical-align: top;\n",
       "    }\n",
       "\n",
       "    .dataframe thead th {\n",
       "        text-align: right;\n",
       "    }\n",
       "</style>\n",
       "<table border=\"1\" class=\"dataframe\">\n",
       "  <thead>\n",
       "    <tr style=\"text-align: right;\">\n",
       "      <th></th>\n",
       "      <th>ENTRY NO.</th>\n",
       "      <th>START</th>\n",
       "      <th>END</th>\n",
       "      <th>ON THE CLOCK</th>\n",
       "      <th>Start</th>\n",
       "      <th>End</th>\n",
       "      <th>Hours</th>\n",
       "    </tr>\n",
       "  </thead>\n",
       "  <tbody>\n",
       "    <tr>\n",
       "      <th>0</th>\n",
       "      <td>1.0</td>\n",
       "      <td>7/3/2022 8:00</td>\n",
       "      <td>7/3/2022 8:47</td>\n",
       "      <td>0:47</td>\n",
       "      <td>2022-07-03 08:00:00</td>\n",
       "      <td>2022-07-03 08:47:00</td>\n",
       "      <td>0.783333</td>\n",
       "    </tr>\n",
       "    <tr>\n",
       "      <th>1</th>\n",
       "      <td>2.0</td>\n",
       "      <td>7/4/2022 16:18</td>\n",
       "      <td>7/4/2022 18:26</td>\n",
       "      <td>2:08</td>\n",
       "      <td>2022-07-04 16:18:00</td>\n",
       "      <td>2022-07-04 18:26:00</td>\n",
       "      <td>2.133333</td>\n",
       "    </tr>\n",
       "    <tr>\n",
       "      <th>2</th>\n",
       "      <td>3.0</td>\n",
       "      <td>7/4/2022 18:58</td>\n",
       "      <td>7/4/2022 19:58</td>\n",
       "      <td>1:00</td>\n",
       "      <td>2022-07-04 18:58:00</td>\n",
       "      <td>2022-07-04 19:58:00</td>\n",
       "      <td>1.000000</td>\n",
       "    </tr>\n",
       "    <tr>\n",
       "      <th>3</th>\n",
       "      <td>4.0</td>\n",
       "      <td>7/5/2022 8:42</td>\n",
       "      <td>7/5/2022 9:25</td>\n",
       "      <td>0:41</td>\n",
       "      <td>2022-07-05 08:42:00</td>\n",
       "      <td>2022-07-05 09:25:00</td>\n",
       "      <td>0.716667</td>\n",
       "    </tr>\n",
       "    <tr>\n",
       "      <th>4</th>\n",
       "      <td>5.0</td>\n",
       "      <td>7/5/2022 10:26</td>\n",
       "      <td>7/5/2022 10:48</td>\n",
       "      <td>0:22</td>\n",
       "      <td>2022-07-05 10:26:00</td>\n",
       "      <td>2022-07-05 10:48:00</td>\n",
       "      <td>0.366667</td>\n",
       "    </tr>\n",
       "  </tbody>\n",
       "</table>\n",
       "</div>"
      ],
      "text/plain": [
       "   ENTRY NO.           START             END ON THE CLOCK               Start  \\\n",
       "0        1.0   7/3/2022 8:00   7/3/2022 8:47         0:47 2022-07-03 08:00:00   \n",
       "1        2.0  7/4/2022 16:18  7/4/2022 18:26         2:08 2022-07-04 16:18:00   \n",
       "2        3.0  7/4/2022 18:58  7/4/2022 19:58         1:00 2022-07-04 18:58:00   \n",
       "3        4.0   7/5/2022 8:42   7/5/2022 9:25         0:41 2022-07-05 08:42:00   \n",
       "4        5.0  7/5/2022 10:26  7/5/2022 10:48         0:22 2022-07-05 10:26:00   \n",
       "\n",
       "                  End     Hours  \n",
       "0 2022-07-03 08:47:00  0.783333  \n",
       "1 2022-07-04 18:26:00  2.133333  \n",
       "2 2022-07-04 19:58:00  1.000000  \n",
       "3 2022-07-05 09:25:00  0.716667  \n",
       "4 2022-07-05 10:48:00  0.366667  "
      ]
     },
     "execution_count": 7,
     "metadata": {},
     "output_type": "execute_result"
    }
   ],
   "source": [
    "df.head()"
   ]
  },
  {
   "cell_type": "code",
   "execution_count": null,
   "id": "39472675",
   "metadata": {},
   "outputs": [],
   "source": [
    "# Set \"Start\" as the index\n",
    "df.set_index('Start', inplace=True)\n",
    "\n",
    "# Resample by day and sum the \"Hours\"\n",
    "daily_hours = df.resample('D')['Hours'].sum()"
   ]
  },
  {
   "cell_type": "code",
   "execution_count": 9,
   "id": "b71c3160",
   "metadata": {},
   "outputs": [
    {
     "name": "stderr",
     "output_type": "stream",
     "text": [
      "findfont: Font family 'Helvetica' not found.\n",
      "findfont: Font family 'Helvetica' not found.\n",
      "findfont: Font family 'Helvetica' not found.\n",
      "findfont: Font family 'Helvetica' not found.\n",
      "findfont: Font family 'Helvetica' not found.\n",
      "findfont: Font family 'Helvetica' not found.\n",
      "findfont: Font family 'Helvetica' not found.\n",
      "findfont: Font family 'Helvetica' not found.\n"
     ]
    },
    {
     "data": {
      "image/png": "[encoded data removed]",
      "text/plain": [
       "<Figure size 1250x340 with 3 Axes>"
      ]
     },
     "metadata": {},
     "output_type": "display_data"
    }
   ],
   "source": [
    "# Plot using calplot\n",
    "fig, ax = calplot.calplot(daily_hours,\n",
    "                yearlabel_kws={'color': 'black'},\n",
    "                suptitle='1 Year Months in the Matrix: A Data Science Odyssey',\n",
    "               cmap = \"Oranges\",\n",
    "               colorbar=True,\n",
    "               linecolor =\"grey\",\n",
    "               linewidth=.7)\n",
    "\n",
    "# Set the plot title\n",
    "plt.title('Total Hours Logged Each Day')\n",
    "\n",
    "# Display the plot\n",
    "plt.show()"
   ]
  },
  {
   "cell_type": "code",
   "execution_count": null,
   "id": "0f760c16",
   "metadata": {},
   "outputs": [],
   "source": []
  }
 ],
 "metadata": {
  "kernelspec": {
   "display_name": "Python 3 (ipykernel)",
   "language": "python",
   "name": "python3"
  },
  "language_info": {
   "codemirror_mode": {
    "name": "ipython",
    "version": 3
   },
   "file_extension": ".py",
   "mimetype": "text/x-python",
   "name": "python",
   "nbconvert_exporter": "python",
   "pygments_lexer": "ipython3",
   "version": "3.9.16"
  }
 },
 "nbformat": 4,
 "nbformat_minor": 5
}
