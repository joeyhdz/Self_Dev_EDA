{
 "cells": [
  {
   "cell_type": "code",
   "execution_count": 39,
   "id": "f05605c5",
   "metadata": {},
   "outputs": [],
   "source": [
    "import pandas as pd\n",
    "import numpy as np\n",
    "import matplotlib.pyplot as plt\n",
    "import seaborn as sns\n",
    "import calplot"
   ]
  },
  {
   "cell_type": "markdown",
   "id": "c4dd1178",
   "metadata": {},
   "source": [
    "## Calendar Heatmap - Data Science Study Time"
   ]
  },
  {
   "cell_type": "code",
   "execution_count": 40,
   "id": "1a958577",
   "metadata": {},
   "outputs": [],
   "source": [
    "# load in data \n",
    "df = pd.read_csv(\"clock.csv\")"
   ]
  },
  {
   "cell_type": "code",
   "execution_count": 41,
   "id": "c485b002",
   "metadata": {},
   "outputs": [
    {
     "data": {
      "text/html": [
       "<div>\n",
       "<style scoped>\n",
       "    .dataframe tbody tr th:only-of-type {\n",
       "        vertical-align: middle;\n",
       "    }\n",
       "\n",
       "    .dataframe tbody tr th {\n",
       "        vertical-align: top;\n",
       "    }\n",
       "\n",
       "    .dataframe thead th {\n",
       "        text-align: right;\n",
       "    }\n",
       "</style>\n",
       "<table border=\"1\" class=\"dataframe\">\n",
       "  <thead>\n",
       "    <tr style=\"text-align: right;\">\n",
       "      <th></th>\n",
       "      <th>count</th>\n",
       "      <th>mean</th>\n",
       "      <th>std</th>\n",
       "      <th>min</th>\n",
       "      <th>25%</th>\n",
       "      <th>50%</th>\n",
       "      <th>75%</th>\n",
       "      <th>max</th>\n",
       "    </tr>\n",
       "  </thead>\n",
       "  <tbody>\n",
       "    <tr>\n",
       "      <th>EntryID</th>\n",
       "      <td>793.0</td>\n",
       "      <td>397.0</td>\n",
       "      <td>229.063674</td>\n",
       "      <td>1.0</td>\n",
       "      <td>199.0</td>\n",
       "      <td>397.0</td>\n",
       "      <td>595.0</td>\n",
       "      <td>793.0</td>\n",
       "    </tr>\n",
       "  </tbody>\n",
       "</table>\n",
       "</div>"
      ],
      "text/plain": [
       "         count   mean         std  min    25%    50%    75%    max\n",
       "EntryID  793.0  397.0  229.063674  1.0  199.0  397.0  595.0  793.0"
      ]
     },
     "execution_count": 41,
     "metadata": {},
     "output_type": "execute_result"
    }
   ],
   "source": [
    "df.describe().transpose()"
   ]
  },
  {
   "cell_type": "code",
   "execution_count": 42,
   "id": "c606c21f",
   "metadata": {},
   "outputs": [
    {
     "name": "stdout",
     "output_type": "stream",
     "text": [
      "<class 'pandas.core.frame.DataFrame'>\n",
      "RangeIndex: 793 entries, 0 to 792\n",
      "Data columns (total 5 columns):\n",
      " #   Column     Non-Null Count  Dtype \n",
      "---  ------     --------------  ----- \n",
      " 0   EntryID    793 non-null    int64 \n",
      " 1   Activity   793 non-null    object\n",
      " 2   Start      793 non-null    object\n",
      " 3   End        793 non-null    object\n",
      " 4   TimeSpent  793 non-null    object\n",
      "dtypes: int64(1), object(4)\n",
      "memory usage: 31.1+ KB\n"
     ]
    }
   ],
   "source": [
    "df.info()"
   ]
  },
  {
   "cell_type": "code",
   "execution_count": 43,
   "id": "d932405a",
   "metadata": {
    "scrolled": true
   },
   "outputs": [
    {
     "data": {
      "text/html": [
       "<div>\n",
       "<style scoped>\n",
       "    .dataframe tbody tr th:only-of-type {\n",
       "        vertical-align: middle;\n",
       "    }\n",
       "\n",
       "    .dataframe tbody tr th {\n",
       "        vertical-align: top;\n",
       "    }\n",
       "\n",
       "    .dataframe thead th {\n",
       "        text-align: right;\n",
       "    }\n",
       "</style>\n",
       "<table border=\"1\" class=\"dataframe\">\n",
       "  <thead>\n",
       "    <tr style=\"text-align: right;\">\n",
       "      <th></th>\n",
       "      <th>EntryID</th>\n",
       "      <th>Activity</th>\n",
       "      <th>Start</th>\n",
       "      <th>End</th>\n",
       "      <th>TimeSpent</th>\n",
       "    </tr>\n",
       "  </thead>\n",
       "  <tbody>\n",
       "    <tr>\n",
       "      <th>0</th>\n",
       "      <td>1</td>\n",
       "      <td>R</td>\n",
       "      <td>7/3/2022 8:00</td>\n",
       "      <td>7/3/2022 8:47</td>\n",
       "      <td>0:47</td>\n",
       "    </tr>\n",
       "    <tr>\n",
       "      <th>1</th>\n",
       "      <td>2</td>\n",
       "      <td>R</td>\n",
       "      <td>7/4/2022 16:18</td>\n",
       "      <td>7/4/2022 18:26</td>\n",
       "      <td>2:08</td>\n",
       "    </tr>\n",
       "    <tr>\n",
       "      <th>2</th>\n",
       "      <td>3</td>\n",
       "      <td>R</td>\n",
       "      <td>7/4/2022 18:58</td>\n",
       "      <td>7/4/2022 19:58</td>\n",
       "      <td>1:00</td>\n",
       "    </tr>\n",
       "    <tr>\n",
       "      <th>3</th>\n",
       "      <td>4</td>\n",
       "      <td>R</td>\n",
       "      <td>7/5/2022 8:42</td>\n",
       "      <td>7/5/2022 9:25</td>\n",
       "      <td>0:41</td>\n",
       "    </tr>\n",
       "    <tr>\n",
       "      <th>4</th>\n",
       "      <td>5</td>\n",
       "      <td>R</td>\n",
       "      <td>7/5/2022 10:26</td>\n",
       "      <td>7/5/2022 10:48</td>\n",
       "      <td>0:22</td>\n",
       "    </tr>\n",
       "  </tbody>\n",
       "</table>\n",
       "</div>"
      ],
      "text/plain": [
       "   EntryID Activity           Start             End TimeSpent\n",
       "0        1        R   7/3/2022 8:00   7/3/2022 8:47      0:47\n",
       "1        2        R  7/4/2022 16:18  7/4/2022 18:26      2:08\n",
       "2        3        R  7/4/2022 18:58  7/4/2022 19:58      1:00\n",
       "3        4        R   7/5/2022 8:42   7/5/2022 9:25      0:41\n",
       "4        5        R  7/5/2022 10:26  7/5/2022 10:48      0:22"
      ]
     },
     "execution_count": 43,
     "metadata": {},
     "output_type": "execute_result"
    }
   ],
   "source": [
    "df.head()"
   ]
  },
  {
   "cell_type": "code",
   "execution_count": 44,
   "id": "69175e90",
   "metadata": {},
   "outputs": [],
   "source": [
    "# convert 'Start' and 'End' columns to datetime format\n",
    "df['Start'] = pd.to_datetime(df['Start'])\n",
    "df['End'] = pd.to_datetime(df['End'])"
   ]
  },
  {
   "cell_type": "code",
   "execution_count": 45,
   "id": "02c83764",
   "metadata": {},
   "outputs": [],
   "source": [
    "# create a new column 'Hours' that contains the time difference between 'Start' and 'End' in hours\n",
    "df['Hours'] = (df['End'] - df['Start']).dt.total_seconds() / 3600"
   ]
  },
  {
   "cell_type": "code",
   "execution_count": 52,
   "id": "83bdc8e4",
   "metadata": {},
   "outputs": [
    {
     "name": "stderr",
     "output_type": "stream",
     "text": [
      "findfont: Font family 'Helvetica' not found.\n",
      "findfont: Font family 'Helvetica' not found.\n",
      "findfont: Font family 'Helvetica' not found.\n",
      "findfont: Font family 'Helvetica' not found.\n",
      "findfont: Font family 'Helvetica' not found.\n",
      "findfont: Font family 'Helvetica' not found.\n",
      "findfont: Font family 'Helvetica' not found.\n",
      "findfont: Font family 'Helvetica' not found.\n",
      "findfont: Font family 'Helvetica' not found.\n",
      "findfont: Font family 'Helvetica' not found.\n",
      "findfont: Font family 'Helvetica' not found.\n",
      "findfont: Font family 'Helvetica' not found.\n",
      "findfont: Font family 'Helvetica' not found.\n",
      "findfont: Font family 'Helvetica' not found.\n",
      "findfont: Font family 'Helvetica' not found.\n",
      "findfont: Font family 'Helvetica' not found.\n"
     ]
    },
    {
     "data": {
      "text/plain": [
       "<Figure size 3000x3000 with 0 Axes>"
      ]
     },
     "metadata": {},
     "output_type": "display_data"
    },
    {
     "name": "stderr",
     "output_type": "stream",
     "text": [
      "findfont: Font family 'Helvetica' not found.\n",
      "findfont: Font family 'Helvetica' not found.\n",
      "findfont: Font family 'Helvetica' not found.\n",
      "findfont: Font family 'Helvetica' not found.\n",
      "findfont: Font family 'Helvetica' not found.\n"
     ]
    },
    {
     "data": {
      "image/png": "[encoded data removed]",
      "text/plain": [
       "<Figure size 1250x340 with 3 Axes>"
      ]
     },
     "metadata": {},
     "output_type": "display_data"
    }
   ],
   "source": [
    "# convert the index of daily_hours to a DatetimeIndex\n",
    "daily_hours.index = pd.to_datetime(daily_hours.index)\n",
    "\n",
    "\n",
    "# viz\n",
    "plt.figure(figsize=(10,10), dpi=300)\n",
    "\n",
    "# create a calendar heatmap using calplot\n",
    "fig, ax = calplot.calplot(daily_hours,\n",
    "                yearlabel_kws={'color': 'black'},\n",
    "                suptitle='10 Months in the Matrix: A Data Science Odyssey',\n",
    "               cmap = \"Greens\",\n",
    "               colorbar=True,\n",
    "               linecolor =\"grey\",\n",
    "               linewidth=.7)\n",
    "\n",
    "\n",
    "# get the colorbar object\n",
    "colorbar = plt.gcf().axes[-1]\n",
    "\n",
    "# set the label for the colorbar\n",
    "colorbar.set_title('Time in Hours', pad=20)\n",
    "\n",
    "fig.savefig(\"learningcal.png\", dpi = 300, bbox_inches = \"tight\")\n"
   ]
  }
 ],
 "metadata": {
  "kernelspec": {
   "display_name": "Python 3 (ipykernel)",
   "language": "python",
   "name": "python3"
  },
  "language_info": {
   "codemirror_mode": {
    "name": "ipython",
    "version": 3
   },
   "file_extension": ".py",
   "mimetype": "text/x-python",
   "name": "python",
   "nbconvert_exporter": "python",
   "pygments_lexer": "ipython3",
   "version": "3.9.16"
  }
 },
 "nbformat": 4,
 "nbformat_minor": 5
}
